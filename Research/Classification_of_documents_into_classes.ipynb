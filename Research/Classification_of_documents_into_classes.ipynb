{
 "cells": [
  {
   "cell_type": "markdown",
   "metadata": {},
   "source": [
    "# Document Classification using LangChain and Groq ChatModel\n",
    "\n",
    "## Introduction\n",
    "Document classification involves tagging or labeling a document with one or more predefined categories. This process is critical for tasks such as content categorization, sentiment analysis, and information retrieval. This documentation demonstrates how to use LangChain with Groq's ChatModel to classify documents efficiently.\n",
    "\n",
    "Tagging has a few components:\n",
    "\n",
    "* function: Like extraction, tagging uses functions to specify how the model should tag a document\n",
    "* schema: defines how we want to tag the document\n",
    "\n",
    "---"
   ]
  },
  {
   "cell_type": "markdown",
   "metadata": {},
   "source": [
    "## Loading a chatmodel i.e Groq chatmodel and classify text using Classification function using Pydantic model"
   ]
  },
  {
   "cell_type": "code",
   "execution_count": 51,
   "metadata": {},
   "outputs": [],
   "source": [
    "import getpass\n",
    "import os\n",
    "\n",
    "if not os.environ.get(\"GROQ_API_KEY\"):\n",
    "    os.environ[\"GROQ_API_KEY\"] = getpass.getpass(\"Enter API key for Groq: \")\n",
    "\n",
    "from langchain_groq import ChatGroq\n",
    "\n",
    "llm = ChatGroq(model=\"llama3-8b-8192\")"
   ]
  },
  {
   "cell_type": "markdown",
   "metadata": {},
   "source": [
    "Let's specify a Pydantic model with a few properties and their expected type in our schema."
   ]
  },
  {
   "cell_type": "code",
   "execution_count": 52,
   "metadata": {},
   "outputs": [],
   "source": [
    "from langchain_core.prompts import ChatPromptTemplate\n",
    "from langchain_openai import ChatOpenAI\n",
    "from pydantic import BaseModel, Field\n",
    "\n",
    "tagging_prompt = ChatPromptTemplate.from_template(\n",
    "    \"\"\"\n",
    "Extract the desired information from the following passage.\n",
    "\n",
    "Only extract the properties mentioned in the 'Classification' function.\n",
    "\n",
    "Passage:\n",
    "{input}\n",
    "\"\"\"\n",
    ")\n",
    "\n",
    "\n",
    "# Define the Classification schema\n",
    "class Classification(BaseModel):\n",
    "    sentiment: str = Field(\n",
    "        description=\"The sentiment of the text (e.g., positive, neutral, negative)\"\n",
    "    )\n",
    "    aggressiveness: int = Field(\n",
    "        description=\"A score from 1 to 10 indicating how aggressive the text is\"\n",
    "    )\n",
    "    language: str = Field(\n",
    "        description=\"The language the text is written in (e.g., English, Spanish)\"\n",
    "    )\n",
    "\n",
    "\n",
    "# Initialize the ChatGroq model\n",
    "from langchain_groq import ChatGroq  # Ensure you have the correct import for ChatGroq\n",
    "\n",
    "llm = ChatGroq(\n",
    "    model=\"mixtral-8x7b-32768\",\n",
    "    temperature=0.0,\n",
    "    max_retries=2,\n",
    "    # other params...\n",
    ").with_structured_output(Classification)\n",
    "\n",
    "def classify_text(input_text):\n",
    "    prompt = tagging_prompt.format(input=input_text)\n",
    "    try:\n",
    "        response = llm.invoke(prompt)\n",
    "        print(response)\n",
    "    except Exception as e:\n",
    "        print(f\"Error: {e}\")\n"
   ]
  },
  {
   "cell_type": "code",
   "execution_count": 53,
   "metadata": {},
   "outputs": [
    {
     "name": "stdout",
     "output_type": "stream",
     "text": [
      "sentiment='neutral' aggressiveness=1 language='English'\n"
     ]
    }
   ],
   "source": [
    "# Example usage\n",
    "input_text = \"This is an example input text.\"\n",
    "classify_text(input_text)"
   ]
  },
  {
   "cell_type": "code",
   "execution_count": 54,
   "metadata": {},
   "outputs": [
    {
     "name": "stdout",
     "output_type": "stream",
     "text": [
      "sentiment='positive' aggressiveness=1 language='Spanish'\n"
     ]
    }
   ],
   "source": [
    "inp = \"Estoy increiblemente contento de haberte conocido! Creo que seremos muy buenos amigos!\"\n",
    "classify_text(inp)\n"
   ]
  },
  {
   "cell_type": "code",
   "execution_count": 55,
   "metadata": {},
   "outputs": [
    {
     "name": "stdout",
     "output_type": "stream",
     "text": [
      "sentiment='negative' aggressiveness=10 language='Spanish'\n"
     ]
    }
   ],
   "source": [
    "inp = \"Estoy muy enojado con vos! Te voy a dar tu merecido!\"\n",
    "classify_text(inp)"
   ]
  },
  {
   "cell_type": "markdown",
   "metadata": {},
   "source": [
    "## Finer control\n",
    "Careful schema definition gives us more control over the model's output.\n",
    "\n",
    "Specifically, we can define:\n",
    "\n",
    "* Possible values for each property\n",
    "* Description to make sure that the model understands the property\n",
    "* Required properties to be returned"
   ]
  },
  {
   "cell_type": "code",
   "execution_count": 56,
   "metadata": {},
   "outputs": [],
   "source": [
    "class Classification(BaseModel):\n",
    "    sentiment: str = Field(..., enum=[\"happy\", \"neutral\", \"sad\"])\n",
    "    aggressiveness: int = Field(\n",
    "        ...,\n",
    "        description=\"describes how aggressive the statement is, the higher the number the more aggressive\",\n",
    "        enum=[1, 2, 3, 4, 5],\n",
    "    )\n",
    "    language: str = Field(\n",
    "        ..., enum=[\"spanish\", \"english\", \"french\", \"german\", \"italian\"]\n",
    "    )"
   ]
  },
  {
   "cell_type": "code",
   "execution_count": 57,
   "metadata": {},
   "outputs": [],
   "source": [
    "tagging_prompt = ChatPromptTemplate.from_template(\n",
    "    \"\"\"\n",
    "Extract the desired information from the following passage.\n",
    "\n",
    "Only extract the properties mentioned in the 'Classification' function.\n",
    "\n",
    "Passage:\n",
    "{input}\n",
    "\"\"\"\n",
    ")\n",
    "\n",
    "llm = ChatGroq(\n",
    "    model=\"mixtral-8x7b-32768\",\n",
    "    temperature=0.0,\n",
    "    max_retries=2,\n",
    "    # other params...\n",
    ").with_structured_output(Classification)"
   ]
  },
  {
   "cell_type": "code",
   "execution_count": 58,
   "metadata": {},
   "outputs": [
    {
     "name": "stdout",
     "output_type": "stream",
     "text": [
      "sentiment='neutral' aggressiveness=1 language='english'\n"
     ]
    }
   ],
   "source": [
    "# Example usage\n",
    "input_text = \"This is an example input text.\"\n",
    "classify_text(input_text)"
   ]
  },
  {
   "cell_type": "code",
   "execution_count": 59,
   "metadata": {},
   "outputs": [
    {
     "name": "stdout",
     "output_type": "stream",
     "text": [
      "sentiment='happy' aggressiveness=1 language='english'\n"
     ]
    }
   ],
   "source": [
    "inp = \"Weather is ok here, I can go outside without much more than a coat\"\n",
    "classify_text(inp)"
   ]
  },
  {
   "cell_type": "markdown",
   "metadata": {},
   "source": [
    "## OpenAI Metadata Tagger\n",
    "\n",
    "Tagging documents with structured metadata (like title, tone, or length) can be very helpful for better similarity searches. But doing this manually for a large number of documents can be time-consuming.\n",
    "\n",
    "The **OpenAIMetadataTagger** is a tool that automates this process. It extracts metadata from documents based on a schema you provide. It uses OpenAI Functions under the hood, so if you provide a custom LLM, it must be a model that supports these functions.\n",
    "\n",
    "### Key Points:\n",
    "- This tool works best with complete documents. Run it on whole documents first before splitting or further processing them.\n",
    "- You can define the metadata structure using a JSON Schema.\n",
    "\n",
    "### Example:\n",
    "Imagine you want to tag a set of movie reviews. You can set up the metadata tagger with a JSON Schema to specify what metadata to extract (e.g., title, tone, etc.).\n"
   ]
  },
  {
   "cell_type": "code",
   "execution_count": 60,
   "metadata": {},
   "outputs": [],
   "source": [
    "from langchain_community.document_transformers.openai_functions import (\n",
    "    create_metadata_tagger,\n",
    ")\n",
    "from langchain_core.documents import Document"
   ]
  },
  {
   "cell_type": "code",
   "execution_count": 61,
   "metadata": {},
   "outputs": [],
   "source": [
    "schema = {\n",
    "    \"properties\": {\n",
    "        \"movie_title\": {\"type\": \"string\"},\n",
    "        \"critic\": {\"type\": \"string\"},\n",
    "        \"tone\": {\"type\": \"string\", \"enum\": [\"positive\", \"negative\"]},\n",
    "        \"rating\": {\n",
    "            \"type\": \"integer\",\n",
    "            \"description\": \"The number of stars the critic rated the movie\",\n",
    "        },\n",
    "    },\n",
    "    \"required\": [\"movie_title\", \"critic\", \"tone\"],\n",
    "}\n",
    "\n",
    "llm = ChatGroq(\n",
    "    model=\"mixtral-8x7b-32768\",\n",
    "    temperature=0.0,\n",
    "    max_retries=2,\n",
    "    # other params...\n",
    ")\n",
    "\n",
    "document_transformer = create_metadata_tagger(metadata_schema=schema, llm=llm)"
   ]
  },
  {
   "cell_type": "markdown",
   "metadata": {},
   "source": [
    "You can then simply pass the document transformer a list of documents, and it will extract metadata from the contents:"
   ]
  },
  {
   "cell_type": "code",
   "execution_count": 62,
   "metadata": {},
   "outputs": [],
   "source": [
    "original_documents = [\n",
    "    Document(\n",
    "        page_content=\"Review of The Bee Movie\\nBy Roger Ebert\\n\\nThis is the greatest movie ever made. 4 out of 5 stars.\"\n",
    "    ),\n",
    "    Document(\n",
    "        page_content=\"Review of The Godfather\\nBy Anonymous\\n\\nThis movie was super boring. 1 out of 5 stars.\",\n",
    "        metadata={\"reliable\": False},\n",
    "    ),\n",
    "]\n",
    "\n",
    "enhanced_documents = document_transformer.transform_documents(original_documents)"
   ]
  },
  {
   "cell_type": "code",
   "execution_count": 63,
   "metadata": {},
   "outputs": [
    {
     "name": "stdout",
     "output_type": "stream",
     "text": [
      "Review of The Bee Movie\n",
      "By Roger Ebert\n",
      "\n",
      "This is the greatest movie ever made. 4 out of 5 stars.\n",
      "\n",
      "{\"critic\": \"Roger Ebert\", \"movie_title\": \"The Bee Movie\", \"tone\": \"positive\"}\n",
      "\n",
      "---------------\n",
      "\n",
      "Review of The Godfather\n",
      "By Anonymous\n",
      "\n",
      "This movie was super boring. 1 out of 5 stars.\n",
      "\n",
      "{\"critic\": \"Anonymous\", \"movie_title\": \"The Godfather\", \"tone\": \"negative\", \"reliable\": false}\n"
     ]
    }
   ],
   "source": [
    "import json\n",
    "\n",
    "print(\n",
    "    *[d.page_content + \"\\n\\n\" + json.dumps(d.metadata) for d in enhanced_documents],\n",
    "    sep=\"\\n\\n---------------\\n\\n\",\n",
    ")"
   ]
  },
  {
   "cell_type": "markdown",
   "metadata": {},
   "source": [
    "The new documents can then be further processed by a text splitter before being loaded into a vector store. Extracted fields will not overwrite existing metadata.\n",
    "\n",
    "We can also initialize the document transformer with a Pydantic schema:"
   ]
  },
  {
   "cell_type": "code",
   "execution_count": 64,
   "metadata": {},
   "outputs": [
    {
     "name": "stdout",
     "output_type": "stream",
     "text": [
      "Review of The Bee Movie\n",
      "By Roger Ebert\n",
      "\n",
      "This is the greatest movie ever made. 4 out of 5 stars.\n",
      "\n",
      "{\"critic\": \"Roger Ebert\", \"movie_title\": \"The Bee Movie\", \"rating\": 4, \"tone\": \"positive\"}\n",
      "\n",
      "---------------\n",
      "\n",
      "Review of The Godfather\n",
      "By Anonymous\n",
      "\n",
      "This movie was super boring. 1 out of 5 stars.\n",
      "\n",
      "{\"critic\": \"Anonymous\", \"movie_title\": \"The Godfather\", \"rating\": 1, \"tone\": \"negative\", \"reliable\": false}\n"
     ]
    }
   ],
   "source": [
    "from typing import Literal\n",
    "\n",
    "from pydantic import BaseModel, Field\n",
    "\n",
    "\n",
    "class Properties(BaseModel):\n",
    "    movie_title: str\n",
    "    critic: str\n",
    "    tone: Literal[\"positive\", \"negative\"]\n",
    "    rating: int = Field(description=\"Rating out of 5 stars\")\n",
    "\n",
    "\n",
    "document_transformer = create_metadata_tagger(Properties, llm)\n",
    "enhanced_documents = document_transformer.transform_documents(original_documents)\n",
    "\n",
    "print(\n",
    "    *[d.page_content + \"\\n\\n\" + json.dumps(d.metadata) for d in enhanced_documents],\n",
    "    sep=\"\\n\\n---------------\\n\\n\",\n",
    ")"
   ]
  },
  {
   "cell_type": "code",
   "execution_count": 65,
   "metadata": {},
   "outputs": [
    {
     "name": "stdout",
     "output_type": "stream",
     "text": [
      "Review of The Bee Movie\n",
      "By Roger Ebert\n",
      "\n",
      "This is the greatest movie ever made. 4 out of 5 stars.\n",
      "\n",
      "{\"critic\": \"Roger Ebert\", \"movie_title\": \"The Bee Movie\", \"tone\": \"positive\"}\n",
      "\n",
      "---------------\n",
      "\n",
      "Review of The Godfather\n",
      "By Anonymous\n",
      "\n",
      "This movie was super boring. 1 out of 5 stars.\n",
      "\n",
      "{\"critic\": \"Roger Ebert\", \"movie_title\": \"The Godfather\", \"tone\": \"negative\", \"reliable\": false}\n"
     ]
    }
   ],
   "source": [
    "from langchain_core.prompts import ChatPromptTemplate\n",
    "\n",
    "prompt = ChatPromptTemplate.from_template(\n",
    "    \"\"\"Extract relevant information from the following text.\n",
    "Anonymous critics are actually Roger Ebert.\n",
    "\n",
    "{input}\n",
    "\"\"\"\n",
    ")\n",
    "\n",
    "document_transformer = create_metadata_tagger(schema, llm, prompt=prompt)\n",
    "enhanced_documents = document_transformer.transform_documents(original_documents)\n",
    "\n",
    "print(\n",
    "    *[d.page_content + \"\\n\\n\" + json.dumps(d.metadata) for d in enhanced_documents],\n",
    "    sep=\"\\n\\n---------------\\n\\n\",\n",
    ")"
   ]
  },
  {
   "cell_type": "markdown",
   "metadata": {},
   "source": [
    "## Second Example:\n",
    "Let’s say you want to tag product reviews based on attributes like product name, reviewer name, sentiment, and rating."
   ]
  },
  {
   "cell_type": "code",
   "execution_count": 68,
   "metadata": {},
   "outputs": [
    {
     "name": "stdout",
     "output_type": "stream",
     "text": [
      "I recently bought the Wireless Headphones, and I must say, they are amazing! The sound quality is crystal clear, and they are super comfortable to wear. I would highly recommend them to anyone looking for good wireless headphones. 4/5 stars. Atharv\n",
      "\n",
      "{\"product_name\": \"Wireless Headphones\", \"rating\": 4, \"reviewer_name\": \"Atharv\", \"sentiment\": \"positive\"}\n",
      "\n",
      "---------------\n",
      "\n",
      "The Wireless Headphones didn't live up to my expectations. While the sound is decent, the battery life is terrible, and they are not very comfortable. I was hoping for more from this brand. 2/5 stars.\n",
      "\n",
      "{\"product_name\": \"Wireless Headphones\", \"rating\": 2, \"reviewer_name\": \"unknown\", \"sentiment\": \"negative\"}\n",
      "\n",
      "---------------\n",
      "\n",
      "These Wireless Headphones are okay. They're not great, but they get the job done. The sound is decent, but there are better options out there for the price. 3/5 stars.\n",
      "\n",
      "{\"product_name\": \"Wireless Headphones\", \"rating\": 3, \"reviewer_name\": \"N/A\", \"sentiment\": \"neutral\"}\n",
      "\n",
      "---------------\n",
      "\n",
      "I'm absolutely in love with these Wireless Headphones! They provide excellent sound quality, and the battery lasts forever. The design is sleek and modern, and they're very comfortable. Definitely worth the money. 5/5 stars.\n",
      "\n",
      "{\"product_name\": \"Wireless Headphones\", \"rating\": 5, \"reviewer_name\": \"N/A\", \"sentiment\": \"positive\"}\n"
     ]
    }
   ],
   "source": [
    "from typing import Literal\n",
    "from pydantic import BaseModel, Field\n",
    "\n",
    "# Define the Pydantic model for the metadata\n",
    "# Pydantic Model: The ReviewMetadata class defines the structure for the metadata, including the product name, reviewer name, sentiment, and rating.\n",
    "class ReviewMetadata(BaseModel):\n",
    "    product_name: str\n",
    "    reviewer_name: str\n",
    "    sentiment: Literal[\"positive\", \"neutral\", \"negative\"]\n",
    "    rating: int = Field(description=\"Rating out of 5 stars\")\n",
    "\n",
    "\n",
    "# Initialize the metadata tagger with the defined schema\n",
    "# Metadata Tagger: The create_metadata_tagger function takes the model and the LLM instance to create a document transformer that can automatically extract the metadata from the reviews.\n",
    "document_transformer = create_metadata_tagger(ReviewMetadata, llm)\n",
    "\n",
    "# Transform the documents (this would be the list of product reviews you want to process)\n",
    "# Processing Documents: The transform_documents method processes the documents and extracts metadata based on the defined schema.\n",
    "original_documents = [\n",
    "    Document(\n",
    "        \"I recently bought the Wireless Headphones, and I must say, they are amazing! The sound quality is crystal clear, and they are super comfortable to wear. I would highly recommend them to anyone looking for good wireless headphones. 4/5 stars. Atharv\"\n",
    "    ),\n",
    "    Document(\n",
    "        \"The Wireless Headphones didn't live up to my expectations. While the sound is decent, the battery life is terrible, and they are not very comfortable. I was hoping for more from this brand. 2/5 stars.\"\n",
    "    ),\n",
    "    Document(\n",
    "        \"These Wireless Headphones are okay. They're not great, but they get the job done. The sound is decent, but there are better options out there for the price. 3/5 stars.\"\n",
    "    ),\n",
    "    Document(\n",
    "        \"I'm absolutely in love with these Wireless Headphones! They provide excellent sound quality, and the battery lasts forever. The design is sleek and modern, and they're very comfortable. Definitely worth the money. 5/5 stars.\"\n",
    "    ),\n",
    "]\n",
    "\n",
    "\n",
    "enhanced_documents = document_transformer.transform_documents(original_documents)\n",
    "\n",
    "# Print the transformed documents with their metadata\n",
    "# Output: For each document, the code prints the original review (content) along with the extracted metadata in JSON format.\n",
    "import json\n",
    "\n",
    "print(\n",
    "    *[d.page_content + \"\\n\\n\" + json.dumps(d.metadata) for d in enhanced_documents],\n",
    "    sep=\"\\n\\n---------------\\n\\n\",\n",
    ")"
   ]
  },
  {
   "cell_type": "code",
   "execution_count": 69,
   "metadata": {},
   "outputs": [
    {
     "name": "stdout",
     "output_type": "stream",
     "text": [
      "I recently bought the Wireless Headphones, and I must say, they are amazing! The sound quality is crystal clear, and they are super comfortable to wear. I would highly recommend them to anyone looking for good wireless headphones. 4/5 stars. Atharv\n",
      "\n",
      "{\"product_name\": \"Wireless Headphones\", \"rating\": 4, \"reviewer_name\": \"Atharv\", \"sentiment\": \"positive\"}\n",
      "\n",
      "---------------\n",
      "\n",
      "The Wireless Headphones didn't live up to my expectations. While the sound is decent, the battery life is terrible, and they are not very comfortable. I was hoping for more from this brand. 2/5 stars.\n",
      "\n",
      "{\"product_name\": \"Wireless Headphones\", \"rating\": 2, \"reviewer_name\": \"A Customer\", \"sentiment\": \"negative\"}\n",
      "\n",
      "---------------\n",
      "\n",
      "These Wireless Headphones are okay. They're not great, but they get the job done. The sound is decent, but there are better options out there for the price. 3/5 stars.\n",
      "\n",
      "{\"product_name\": \"Wireless Headphones\", \"rating\": 3, \"reviewer_name\": \"N/A\", \"sentiment\": \"neutral\"}\n",
      "\n",
      "---------------\n",
      "\n",
      "I'm absolutely in love with these Wireless Headphones! They provide excellent sound quality, and the battery lasts forever. The design is sleek and modern, and they're very comfortable. Definitely worth the money. 5/5 stars.\n",
      "\n",
      "{\"product_name\": \"Wireless Headphones\", \"rating\": 5, \"reviewer_name\": \"A satisfied customer\", \"sentiment\": \"positive\"}\n"
     ]
    }
   ],
   "source": [
    "from langchain_core.prompts import ChatPromptTemplate\n",
    "\n",
    "prompt = ChatPromptTemplate.from_template(\n",
    "    \"\"\"Extract relevant information from the following text. \n",
    "\n",
    "{input}\n",
    "\"\"\"\n",
    ")\n",
    "\n",
    "document_transformer = create_metadata_tagger(ReviewMetadata, llm, prompt=prompt)\n",
    "enhanced_documents = document_transformer.transform_documents(original_documents)\n",
    "\n",
    "print(\n",
    "    *[d.page_content + \"\\n\\n\" + json.dumps(d.metadata) for d in enhanced_documents],\n",
    "    sep=\"\\n\\n---------------\\n\\n\",\n",
    ")"
   ]
  }
 ],
 "metadata": {
  "kernelspec": {
   "display_name": "ai_agent",
   "language": "python",
   "name": "python3"
  },
  "language_info": {
   "codemirror_mode": {
    "name": "ipython",
    "version": 3
   },
   "file_extension": ".py",
   "mimetype": "text/x-python",
   "name": "python",
   "nbconvert_exporter": "python",
   "pygments_lexer": "ipython3",
   "version": "3.10.9"
  }
 },
 "nbformat": 4,
 "nbformat_minor": 2
}
