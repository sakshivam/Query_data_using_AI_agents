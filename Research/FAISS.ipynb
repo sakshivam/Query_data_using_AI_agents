{
 "cells": [
  {
   "cell_type": "markdown",
   "metadata": {},
   "source": [
    "# FAISS\n",
    "Facebook AI Similarity Search (FAISS) is a library for efficient similarity search and clustering of dense vectors. It contains algorithms that search in sets of vectors of any size, up to ones that possibly do not fit in RAM. It also includes supporting code for evaluation and parameter tuning.\n",
    "\n",
    "## Prerequisites\n",
    "\n",
    "Ensure you have the following installed:\n",
    "1. **FAISS**: Install using pip:\n",
    "   ```bash\n",
    "   pip install faiss-cpu\n",
    "\n",
    "# Using FAISS with Groq: A Step-by-Step Guide\n",
    "## Step 1: Setting Up the Environment\n",
    "### Import Required Libraries"
   ]
  },
  {
   "cell_type": "code",
   "execution_count": 1,
   "metadata": {},
   "outputs": [],
   "source": [
    "import os\n",
    "from langchain.embeddings import HuggingFaceEmbeddings\n",
    "from langchain_community.vectorstores import FAISS\n",
    "from langchain_groq import ChatGroq"
   ]
  },
  {
   "cell_type": "markdown",
   "metadata": {},
   "source": [
    "## Step 2: Set the Groq API Key\n",
    "If the GROQ_API_KEY is not set, prompt the user to input it:"
   ]
  },
  {
   "cell_type": "code",
   "execution_count": 2,
   "metadata": {},
   "outputs": [],
   "source": [
    "if not os.environ.get(\"GROQ_API_KEY\"):\n",
    "    os.environ[\"GROQ_API_KEY\"] = input(\"Enter your Groq API key: \")"
   ]
  },
  {
   "cell_type": "markdown",
   "metadata": {},
   "source": [
    "## Step 3: Initialize the Hugging Face Embedding Model\n",
    "LangChain's HuggingFaceEmbeddings class can be used to initialize a Hugging Face model for generating embeddings."
   ]
  },
  {
   "cell_type": "code",
   "execution_count": 3,
   "metadata": {},
   "outputs": [
    {
     "name": "stderr",
     "output_type": "stream",
     "text": [
      "C:\\Users\\saksh\\AppData\\Local\\Temp\\ipykernel_27488\\1229708322.py:5: LangChainDeprecationWarning: The class `HuggingFaceEmbeddings` was deprecated in LangChain 0.2.2 and will be removed in 1.0. An updated version of the class exists in the :class:`~langchain-huggingface package and should be used instead. To use it run `pip install -U :class:`~langchain-huggingface` and import as `from :class:`~langchain_huggingface import HuggingFaceEmbeddings``.\n",
      "  embeddings = HuggingFaceEmbeddings(model_name=embedding_model_name)\n",
      "c:\\Users\\saksh\\SakshiOneDrive\\OneDrive\\SakshiOnedrive\\Projects\\20250111_Query_data_using_AI_agents\\ai_agent\\lib\\site-packages\\tqdm\\auto.py:21: TqdmWarning: IProgress not found. Please update jupyter and ipywidgets. See https://ipywidgets.readthedocs.io/en/stable/user_install.html\n",
      "  from .autonotebook import tqdm as notebook_tqdm\n"
     ]
    }
   ],
   "source": [
    "# Initialize Hugging Face embedding model\n",
    "embedding_model_name = (\n",
    "    \"sentence-transformers/all-MiniLM-L6-v2\"  # Choose any supported model\n",
    ")\n",
    "embeddings = HuggingFaceEmbeddings(model_name=embedding_model_name)"
   ]
  },
  {
   "cell_type": "markdown",
   "metadata": {},
   "source": [
    "## Step 5: Create the FAISS Vector Store\n",
    "Use the Hugging Face embeddings to create and populate the FAISS vector store."
   ]
  },
  {
   "cell_type": "code",
   "execution_count": 6,
   "metadata": {},
   "outputs": [],
   "source": [
    "from langchain.schema import Document\n",
    "from langchain_community.vectorstores import FAISS\n",
    "\n",
    "# Example documents\n",
    "documents = [\n",
    "    \"FAISS is an efficient similarity search library.\",\n",
    "    \"Groq is a high-performance computing platform.\",\n",
    "    \"LangChain helps integrate various AI tools.\",\n",
    "    \"Sentence transformers generate embeddings for text.\",\n",
    "]\n",
    "\n",
    "# Wrap the documents in the Document class\n",
    "document_objects = [Document(page_content=doc) for doc in documents]\n",
    "\n",
    "# Use `FAISS.from_documents` to automatically handle embeddings\n",
    "faiss_store = FAISS.from_documents(document_objects, embeddings)"
   ]
  },
  {
   "cell_type": "markdown",
   "metadata": {},
   "source": [
    "## Step 6: Query the Vector Store and Use Groq\n",
    "Now you can query the FAISS vector store for the most relevant documents and pass the results to Groq for additional processing."
   ]
  },
  {
   "cell_type": "code",
   "execution_count": 9,
   "metadata": {},
   "outputs": [],
   "source": [
    "# Initialize the Groq model\n",
    "groq_model = ChatGroq(model=\"llama3-8b-8192\")\n",
    "\n",
    "# Query the FAISS vector store\n",
    "query = \"Tell me about FAISS and Groq.\"\n",
    "results = faiss_store.similarity_search(query, k=2)"
   ]
  },
  {
   "cell_type": "code",
   "execution_count": 10,
   "metadata": {},
   "outputs": [
    {
     "name": "stdout",
     "output_type": "stream",
     "text": [
      "Groq Response: Based on the two documents, here's a summary and some relevant insights:\n",
      "\n",
      "**Summary:** Groq is a high-performance computing platform, and FAISS is an efficient similarity search library. While the two documents don't explicitly mention their relationship, it's likely that Groq is a platform that utilizes FAISS or has integrated it into its architecture.\n",
      "\n",
      "**Insights:**\n",
      "\n",
      "1. **High-performance computing**: Groq's description indicates that it's designed for high-performance computing, which suggests that it's optimized for tasks that require intense computational resources.\n",
      "2. **Efficient similarity search**: FAISS is an efficient library for similarity search, which implies that it's capable of quickly finding similarities between large datasets. This is particularly useful in applications like image or audio search, recommendation systems, or natural language processing.\n",
      "3. **Potential synergy**: Given Groq's focus on high-performance computing and FAISS's efficiency in similarity search, it's possible that Groq uses FAISS as a component to accelerate similarity search tasks. This could be particularly useful in applications where fast and accurate similarity search is critical, such as in recommender systems or image classification.\n",
      "\n",
      "Overall, while the documents don't provide a direct link between Groq and FAISS, they suggest that Groq is a high-performance computing platform that may leverage FAISS's efficiency in similarity search to accelerate specific tasks.\n"
     ]
    }
   ],
   "source": [
    "# Process the retrieved documents\n",
    "processed_documents = []\n",
    "\n",
    "for idx, result in enumerate(results, 1):\n",
    "    processed_document = f\"Document {idx}:\\n{result.page_content}\\n\"\n",
    "    processed_documents.append(processed_document)\n",
    "\n",
    "# Combine processed documents into a single prompt\n",
    "combined_documents = \"\\n\".join(processed_documents)\n",
    "\n",
    "# Add context or a guiding query to the combined prompt\n",
    "prompt = (\n",
    "    \"Based on the following documents, provide a summary and relevant insights:\\n\\n\"\n",
    "    + combined_documents\n",
    ")\n",
    "\n",
    "# Invoke the Groq model with the formatted prompt\n",
    "response = groq_model.invoke(prompt)\n",
    "\n",
    "# Display the response\n",
    "print(\"Groq Response:\", response.content)"
   ]
  }
 ],
 "metadata": {
  "kernelspec": {
   "display_name": "ai_agent",
   "language": "python",
   "name": "python3"
  },
  "language_info": {
   "codemirror_mode": {
    "name": "ipython",
    "version": 3
   },
   "file_extension": ".py",
   "mimetype": "text/x-python",
   "name": "python",
   "nbconvert_exporter": "python",
   "pygments_lexer": "ipython3",
   "version": "3.10.9"
  }
 },
 "nbformat": 4,
 "nbformat_minor": 2
}
